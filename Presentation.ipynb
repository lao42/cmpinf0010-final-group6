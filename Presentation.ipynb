{
 "cells": [
  {
   "cell_type": "code",
   "execution_count": 2,
   "metadata": {},
   "outputs": [],
   "source": [
    "import pandas as pd\n",
    "import numpy as np\n",
    "import ssl\n",
    "\n",
    "ssl._create_default_https_context = ssl._create_unverified_context"
   ]
  },
  {
   "cell_type": "markdown",
   "metadata": {},
   "source": [
    "\n",
    "Intro:\n",
    "For our project, we decided to use 3 main metrics in determining which neighborhood is the best. The metrics we decided on are Crime rate, How often the bus comes on time, and smell.\n",
    "The Metric: For our final metric, we decided to weight all 3 of the metrics contained in our datasets as Percentages. For Bus timeliness, we decided to use the metric of how often the bus is on time. \n",
    "The Best Neighborhood:\n",
    "When we average out these values, the neighborhoods with the highest value end up being: *Insert Data Here*\n",
    "\n",
    "Conclusion:\n",
    "This section is individual"
   ]
  },
  {
   "cell_type": "code",
   "execution_count": 14,
   "metadata": {},
   "outputs": [
    {
     "data": {
      "text/plain": [
       "<matplotlib.axes._subplots.AxesSubplot at 0x7f9f379c3828>"
      ]
     },
     "execution_count": 14,
     "metadata": {},
     "output_type": "execute_result"
    },
    {
     "data": {
      "image/png": "[encoded data removed]",
      "text/plain": [
       "<Figure size 432x288 with 1 Axes>"
      ]
     },
     "metadata": {
      "needs_background": "light"
     },
     "output_type": "display_data"
    }
   ],
   "source": [
    "pgh_bus_data = pd.read_csv(\"https://data.wprdc.org/datastore/dump/00eb9600-69b5-4f11-b20a-8c8ddd8cfe7a\",\n",
    "                           index_col=\"route\", \n",
    "                           parse_dates=True)\n",
    "pgh_bus_data.groupby('route_full_name')['on_time_percent'].mean().sort_values().to_csv('meanOTPbyRoute.csv', header='False') #Writes the Mean OTP per route to a csv file\n",
    "#Labeled bus routes by neighborhood manually. #Some of these are approximations, since bus routes have a lot of stops.\n",
    "pgh_bus_data = pd.read_csv(\"manuallySorted.csv\", index_col=\"Neighborhood\")\n",
    "pgh_bus_data.groupby('Neighborhood')['on_time_percent'].mean().sort_values().to_csv('meanOTPbyNeighborhood.csv', header='False') #We find the mean again because some neighborhoods have multiple routes\n",
    "pgh_bus_data.groupby('Neighborhood')['on_time_percent'].mean().sort_values().tail().plot.bar()"
   ]
  },
  {
   "cell_type": "markdown",
   "metadata": {},
   "source": [
    "This graph is of the 5 neighborhoods where the busses are on time most often."
   ]
  },
  {
   "cell_type": "markdown",
   "metadata": {},
   "source": [
    "The code below reads in the dataset \"arrests.csv\" and assigns it to a varriable called crime, displaying the first 5 lines. This dataset is a collection of various arrests made by the City of Pittsburgh Police Department over many years. Each arrest has detailed information about the person arrested as well as the location and the location of the incident. I decided that incident location, more specifically incident neighborhood, was a better statistic than arrest location to assess the level of crime in the area. Arrests are usually only for more severe crimes than noise complaints or other minor offenses, so by sorting the neighborhoods by the number of arrests from incidents within them, a good picture of that neighborhood's safety can be drawn."
   ]
  },
  {
   "cell_type": "code",
   "execution_count": 4,
   "metadata": {},
   "outputs": [
    {
     "data": {
      "text/html": [
       "<div>\n",
       "<style scoped>\n",
       "    .dataframe tbody tr th:only-of-type {\n",
       "        vertical-align: middle;\n",
       "    }\n",
       "\n",
       "    .dataframe tbody tr th {\n",
       "        vertical-align: top;\n",
       "    }\n",
       "\n",
       "    .dataframe thead th {\n",
       "        text-align: right;\n",
       "    }\n",
       "</style>\n",
       "<table border=\"1\" class=\"dataframe\">\n",
       "  <thead>\n",
       "    <tr style=\"text-align: right;\">\n",
       "      <th></th>\n",
       "      <th>CCR</th>\n",
       "      <th>AGE</th>\n",
       "      <th>GENDER</th>\n",
       "      <th>RACE</th>\n",
       "      <th>ARRESTTIME</th>\n",
       "      <th>ARRESTLOCATION</th>\n",
       "      <th>OFFENSES</th>\n",
       "      <th>INCIDENTLOCATION</th>\n",
       "      <th>INCIDENTNEIGHBORHOOD</th>\n",
       "      <th>INCIDENTZONE</th>\n",
       "      <th>INCIDENTTRACT</th>\n",
       "      <th>COUNCIL_DISTRICT</th>\n",
       "      <th>PUBLIC_WORKS_DIVISION</th>\n",
       "      <th>X</th>\n",
       "      <th>Y</th>\n",
       "    </tr>\n",
       "    <tr>\n",
       "      <th>PK</th>\n",
       "      <th></th>\n",
       "      <th></th>\n",
       "      <th></th>\n",
       "      <th></th>\n",
       "      <th></th>\n",
       "      <th></th>\n",
       "      <th></th>\n",
       "      <th></th>\n",
       "      <th></th>\n",
       "      <th></th>\n",
       "      <th></th>\n",
       "      <th></th>\n",
       "      <th></th>\n",
       "      <th></th>\n",
       "      <th></th>\n",
       "    </tr>\n",
       "  </thead>\n",
       "  <tbody>\n",
       "    <tr>\n",
       "      <th>1975272</th>\n",
       "      <td>16158872</td>\n",
       "      <td>42.0</td>\n",
       "      <td>F</td>\n",
       "      <td>B</td>\n",
       "      <td>2016-08-24T12:20:00</td>\n",
       "      <td>4700 Block Centre AV Pittsburgh, PA 15213</td>\n",
       "      <td>3929 Retail Theft.</td>\n",
       "      <td>4700 Block Centre AV Pittsburgh, PA 15213</td>\n",
       "      <td>Bloomfield</td>\n",
       "      <td>5</td>\n",
       "      <td>804.0</td>\n",
       "      <td>8.0</td>\n",
       "      <td>2.0</td>\n",
       "      <td>-79.949277</td>\n",
       "      <td>40.452551</td>\n",
       "    </tr>\n",
       "    <tr>\n",
       "      <th>1974456</th>\n",
       "      <td>16144120</td>\n",
       "      <td>31.0</td>\n",
       "      <td>M</td>\n",
       "      <td>W</td>\n",
       "      <td>2016-08-03T14:55:00</td>\n",
       "      <td>4200 Block Steubenville PKE Pittsburgh, PA 15205</td>\n",
       "      <td>13(a)(16) Possession of Controlled Substance</td>\n",
       "      <td>4200 Block Steubenville PKE Pittsburgh, PA 15205</td>\n",
       "      <td>Outside City</td>\n",
       "      <td>OSC</td>\n",
       "      <td>5599.0</td>\n",
       "      <td>NaN</td>\n",
       "      <td>NaN</td>\n",
       "      <td>-80.088018</td>\n",
       "      <td>40.440136</td>\n",
       "    </tr>\n",
       "    <tr>\n",
       "      <th>1974466</th>\n",
       "      <td>16144165</td>\n",
       "      <td>63.0</td>\n",
       "      <td>F</td>\n",
       "      <td>B</td>\n",
       "      <td>2016-08-03T16:45:00</td>\n",
       "      <td>900 Block Freeport RD Fox Chapel, PA 15238</td>\n",
       "      <td>3929 Retail Theft.</td>\n",
       "      <td>900 Block Freeport RD Fox Chapel, PA 15238</td>\n",
       "      <td>Westwood</td>\n",
       "      <td>5</td>\n",
       "      <td>2811.0</td>\n",
       "      <td>9.0</td>\n",
       "      <td>2.0</td>\n",
       "      <td>-79.891803</td>\n",
       "      <td>40.486625</td>\n",
       "    </tr>\n",
       "    <tr>\n",
       "      <th>1974550</th>\n",
       "      <td>16145257</td>\n",
       "      <td>25.0</td>\n",
       "      <td>F</td>\n",
       "      <td>W</td>\n",
       "      <td>2016-08-05T02:36:00</td>\n",
       "      <td>Foreland ST &amp; Cedar AV Pittsburgh, PA 15212</td>\n",
       "      <td>5503 Disorderly Conduct. / 5505 Public Drunken...</td>\n",
       "      <td>Foreland ST &amp; Cedar AV Pittsburgh, PA 15212</td>\n",
       "      <td>East Allegheny</td>\n",
       "      <td>1</td>\n",
       "      <td>2304.0</td>\n",
       "      <td>1.0</td>\n",
       "      <td>1.0</td>\n",
       "      <td>-80.001939</td>\n",
       "      <td>40.454080</td>\n",
       "    </tr>\n",
       "    <tr>\n",
       "      <th>1974596</th>\n",
       "      <td>16145962</td>\n",
       "      <td>25.0</td>\n",
       "      <td>M</td>\n",
       "      <td>B</td>\n",
       "      <td>2016-08-06T02:00:00</td>\n",
       "      <td>900 Block Woodlow ST Pittsburgh, PA 15205</td>\n",
       "      <td>2702 Aggravated Assault. / 2705 Recklessy Enda...</td>\n",
       "      <td>900 Block Woodlow ST Pittsburgh, PA 15205</td>\n",
       "      <td>Crafton Heights</td>\n",
       "      <td>5</td>\n",
       "      <td>2814.0</td>\n",
       "      <td>2.0</td>\n",
       "      <td>5.0</td>\n",
       "      <td>-80.052204</td>\n",
       "      <td>40.445900</td>\n",
       "    </tr>\n",
       "  </tbody>\n",
       "</table>\n",
       "</div>"
      ],
      "text/plain": [
       "              CCR   AGE GENDER RACE           ARRESTTIME  \\\n",
       "PK                                                         \n",
       "1975272  16158872  42.0      F    B  2016-08-24T12:20:00   \n",
       "1974456  16144120  31.0      M    W  2016-08-03T14:55:00   \n",
       "1974466  16144165  63.0      F    B  2016-08-03T16:45:00   \n",
       "1974550  16145257  25.0      F    W  2016-08-05T02:36:00   \n",
       "1974596  16145962  25.0      M    B  2016-08-06T02:00:00   \n",
       "\n",
       "                                           ARRESTLOCATION  \\\n",
       "PK                                                          \n",
       "1975272         4700 Block Centre AV Pittsburgh, PA 15213   \n",
       "1974456  4200 Block Steubenville PKE Pittsburgh, PA 15205   \n",
       "1974466        900 Block Freeport RD Fox Chapel, PA 15238   \n",
       "1974550       Foreland ST & Cedar AV Pittsburgh, PA 15212   \n",
       "1974596         900 Block Woodlow ST Pittsburgh, PA 15205   \n",
       "\n",
       "                                                  OFFENSES  \\\n",
       "PK                                                           \n",
       "1975272                                 3929 Retail Theft.   \n",
       "1974456       13(a)(16) Possession of Controlled Substance   \n",
       "1974466                                 3929 Retail Theft.   \n",
       "1974550  5503 Disorderly Conduct. / 5505 Public Drunken...   \n",
       "1974596  2702 Aggravated Assault. / 2705 Recklessy Enda...   \n",
       "\n",
       "                                         INCIDENTLOCATION  \\\n",
       "PK                                                          \n",
       "1975272         4700 Block Centre AV Pittsburgh, PA 15213   \n",
       "1974456  4200 Block Steubenville PKE Pittsburgh, PA 15205   \n",
       "1974466        900 Block Freeport RD Fox Chapel, PA 15238   \n",
       "1974550       Foreland ST & Cedar AV Pittsburgh, PA 15212   \n",
       "1974596         900 Block Woodlow ST Pittsburgh, PA 15205   \n",
       "\n",
       "        INCIDENTNEIGHBORHOOD INCIDENTZONE  INCIDENTTRACT  COUNCIL_DISTRICT  \\\n",
       "PK                                                                           \n",
       "1975272           Bloomfield            5          804.0               8.0   \n",
       "1974456         Outside City          OSC         5599.0               NaN   \n",
       "1974466             Westwood            5         2811.0               9.0   \n",
       "1974550       East Allegheny            1         2304.0               1.0   \n",
       "1974596      Crafton Heights            5         2814.0               2.0   \n",
       "\n",
       "         PUBLIC_WORKS_DIVISION          X          Y  \n",
       "PK                                                    \n",
       "1975272                    2.0 -79.949277  40.452551  \n",
       "1974456                    NaN -80.088018  40.440136  \n",
       "1974466                    2.0 -79.891803  40.486625  \n",
       "1974550                    1.0 -80.001939  40.454080  \n",
       "1974596                    5.0 -80.052204  40.445900  "
      ]
     },
     "execution_count": 4,
     "metadata": {},
     "output_type": "execute_result"
    }
   ],
   "source": [
    "\n",
    "crime = pd.read_csv(\"arrests.csv\",index_col=\"PK\")\n",
    "crime.head()"
   ]
  },
  {
   "cell_type": "code",
   "execution_count": 5,
   "metadata": {},
   "outputs": [
    {
     "data": {
      "text/plain": [
       "South Side Flats             0.899682\n",
       "Central Business District    0.931457\n",
       "East Allegheny               0.931911\n",
       "Carrick                      0.947345\n",
       "East Liberty                 0.950068\n",
       "                               ...   \n",
       "Outside State                0.999092\n",
       "New Homestead                0.999546\n",
       "Hays                         0.999546\n",
       "Chartiers City               0.999546\n",
       "Swisshelm Park               0.999546\n",
       "Name: INCIDENTNEIGHBORHOOD, Length: 97, dtype: float64"
      ]
     },
     "execution_count": 5,
     "metadata": {},
     "output_type": "execute_result"
    }
   ],
   "source": [
    "(crime['INCIDENTNEIGHBORHOOD'].value_counts()/2203-1)*(-1)"
   ]
  },
  {
   "cell_type": "code",
   "execution_count": 6,
   "metadata": {},
   "outputs": [
    {
     "data": {
      "text/plain": [
       "South Side Flats             221\n",
       "Central Business District    151\n",
       "East Allegheny               150\n",
       "Carrick                      116\n",
       "East Liberty                 110\n",
       "                            ... \n",
       "Outside State                  2\n",
       "New Homestead                  1\n",
       "Hays                           1\n",
       "Chartiers City                 1\n",
       "Swisshelm Park                 1\n",
       "Name: INCIDENTNEIGHBORHOOD, Length: 97, dtype: int64"
      ]
     },
     "execution_count": 6,
     "metadata": {},
     "output_type": "execute_result"
    }
   ],
   "source": [
    "crime['INCIDENTNEIGHBORHOOD'].value_counts()"
   ]
  },
  {
   "cell_type": "markdown",
   "metadata": {},
   "source": [
    "The following code snippet creates the actual metric we used. By getting the value counts for unique entries into 'INCIDENTNEIGHBORHOOD', we get the number of arrests in each neighborhood. From there we can divide by the highest count to create a metric that is between 0 and 1. Since we want 1 to be the best score and 0 the worst, we just subtract the metric by 1 and invert the sign to get the final values."
   ]
  },
  {
   "cell_type": "code",
   "execution_count": 24,
   "metadata": {},
   "outputs": [],
   "source": [
    "crime_metric = (crime['INCIDENTNEIGHBORHOOD'].value_counts()/2203-1)*(-1)\n",
    "crime_metric.to_csv('crimeMetric.csv', header='False')\n",
    "#manually renamed 'Incident Neighborhood' to 'Neighborhood'"
   ]
  },
  {
   "cell_type": "code",
   "execution_count": 18,
   "metadata": {},
   "outputs": [
    {
     "name": "stdout",
     "output_type": "stream",
     "text": [
      "0.9473445301861099\n"
     ]
    }
   ],
   "source": [
    "print(crime_metric['Carrick'])"
   ]
  },
  {
   "cell_type": "code",
   "execution_count": 21,
   "metadata": {},
   "outputs": [],
   "source": [
    "def barGraph(df):\n",
    "    ob = df['INCIDENTNEIGHBORHOOD'].value_counts()\n",
    "barGraph(crime)"
   ]
  },
  {
   "cell_type": "code",
   "execution_count": 22,
   "metadata": {},
   "outputs": [
    {
     "data": {
      "text/plain": [
       "<matplotlib.axes._subplots.AxesSubplot at 0x7f9f3798b9b0>"
      ]
     },
     "execution_count": 22,
     "metadata": {},
     "output_type": "execute_result"
    },
    {
     "data": {
      "image/png": "[encoded data removed]",
      "text/plain": [
       "<Figure size 432x288 with 1 Axes>"
      ]
     },
     "metadata": {
      "needs_background": "light"
     },
     "output_type": "display_data"
    }
   ],
   "source": [
    "crime['INCIDENTNEIGHBORHOOD'].value_counts().head(20).plot(kind=\"bar\")\n",
    "# most dangerous neighborhoods (by number of arrests)"
   ]
  },
  {
   "cell_type": "code",
   "execution_count": 23,
   "metadata": {},
   "outputs": [
    {
     "data": {
      "text/plain": [
       "<matplotlib.axes._subplots.AxesSubplot at 0x7f9f378d6f98>"
      ]
     },
     "execution_count": 23,
     "metadata": {},
     "output_type": "execute_result"
    },
    {
     "data": {
      "image/png": "[encoded data removed]",
      "text/plain": [
       "<Figure size 432x288 with 1 Axes>"
      ]
     },
     "metadata": {
      "needs_background": "light"
     },
     "output_type": "display_data"
    }
   ],
   "source": [
    "crime['INCIDENTNEIGHBORHOOD'].value_counts().tail(20).plot(kind=\"bar\")\n",
    "# safest neighborhoods (by number of arrests)"
   ]
  },
  {
   "cell_type": "markdown",
   "metadata": {},
   "source": [
    "Section on the third metric\n",
    "Section on Air Quality"
   ]
  },
  {
   "cell_type": "markdown",
   "metadata": {},
   "source": [
    "The Best Neighborhood:\n",
    "When we average out these values, the neighborhoods with the highest value end up being: *Insert Data Here*\n"
   ]
  }
 ],
 "metadata": {
  "kernelspec": {
   "display_name": "Python 3",
   "language": "python",
   "name": "python3"
  },
  "language_info": {
   "codemirror_mode": {
    "name": "ipython",
    "version": 3
   },
   "file_extension": ".py",
   "mimetype": "text/x-python",
   "name": "python",
   "nbconvert_exporter": "python",
   "pygments_lexer": "ipython3",
   "version": "3.6.7"
  }
 },
 "nbformat": 4,
 "nbformat_minor": 4
}
