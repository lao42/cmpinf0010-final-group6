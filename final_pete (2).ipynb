{
 "cells": [
  {
   "cell_type": "code",
   "execution_count": 2,
   "metadata": {},
   "outputs": [],
   "source": [
    "import pandas as pd\n",
    "import numpy as np\n"
   ]
  },
  {
   "cell_type": "markdown",
   "metadata": {},
   "source": [
    "The code below reads in the dataset \"arrests.csv\" and assigns it to a varriable called crime, displaying the first 5 lines. This dataset is a collection of various arrests made by the City of Pittsburgh Police Department over many years. Each arrest has detailed information about the person arrested as well as the location and the location of the incident. I decided that incident location, more specifically incident neighborhood, was a better statistic than arrest location to assess the level of crime in the area. Arrests are usually only for more severe crimes than noise complaints or other minor offenses, so by sorting the neighborhoods by the number of arrests from incidents within them, a good picture of that neighborhood's safety can be drawn."
   ]
  },
  {
   "cell_type": "code",
   "execution_count": 4,
   "metadata": {},
   "outputs": [
    {
     "data": {
      "text/html": [
       "<div>\n",
       "<style scoped>\n",
       "    .dataframe tbody tr th:only-of-type {\n",
       "        vertical-align: middle;\n",
       "    }\n",
       "\n",
       "    .dataframe tbody tr th {\n",
       "        vertical-align: top;\n",
       "    }\n",
       "\n",
       "    .dataframe thead th {\n",
       "        text-align: right;\n",
       "    }\n",
       "</style>\n",
       "<table border=\"1\" class=\"dataframe\">\n",
       "  <thead>\n",
       "    <tr style=\"text-align: right;\">\n",
       "      <th></th>\n",
       "      <th>CCR</th>\n",
       "      <th>AGE</th>\n",
       "      <th>GENDER</th>\n",
       "      <th>RACE</th>\n",
       "      <th>ARRESTTIME</th>\n",
       "      <th>ARRESTLOCATION</th>\n",
       "      <th>OFFENSES</th>\n",
       "      <th>INCIDENTLOCATION</th>\n",
       "      <th>INCIDENTNEIGHBORHOOD</th>\n",
       "      <th>INCIDENTZONE</th>\n",
       "      <th>INCIDENTTRACT</th>\n",
       "      <th>COUNCIL_DISTRICT</th>\n",
       "      <th>PUBLIC_WORKS_DIVISION</th>\n",
       "      <th>X</th>\n",
       "      <th>Y</th>\n",
       "    </tr>\n",
       "    <tr>\n",
       "      <th>PK</th>\n",
       "      <th></th>\n",
       "      <th></th>\n",
       "      <th></th>\n",
       "      <th></th>\n",
       "      <th></th>\n",
       "      <th></th>\n",
       "      <th></th>\n",
       "      <th></th>\n",
       "      <th></th>\n",
       "      <th></th>\n",
       "      <th></th>\n",
       "      <th></th>\n",
       "      <th></th>\n",
       "      <th></th>\n",
       "      <th></th>\n",
       "    </tr>\n",
       "  </thead>\n",
       "  <tbody>\n",
       "    <tr>\n",
       "      <th>1975272</th>\n",
       "      <td>16158872</td>\n",
       "      <td>42.0</td>\n",
       "      <td>F</td>\n",
       "      <td>B</td>\n",
       "      <td>2016-08-24T12:20:00</td>\n",
       "      <td>4700 Block Centre AV Pittsburgh, PA 15213</td>\n",
       "      <td>3929 Retail Theft.</td>\n",
       "      <td>4700 Block Centre AV Pittsburgh, PA 15213</td>\n",
       "      <td>Bloomfield</td>\n",
       "      <td>5</td>\n",
       "      <td>804.0</td>\n",
       "      <td>8.0</td>\n",
       "      <td>2.0</td>\n",
       "      <td>-79.949277</td>\n",
       "      <td>40.452551</td>\n",
       "    </tr>\n",
       "    <tr>\n",
       "      <th>1974456</th>\n",
       "      <td>16144120</td>\n",
       "      <td>31.0</td>\n",
       "      <td>M</td>\n",
       "      <td>W</td>\n",
       "      <td>2016-08-03T14:55:00</td>\n",
       "      <td>4200 Block Steubenville PKE Pittsburgh, PA 15205</td>\n",
       "      <td>13(a)(16) Possession of Controlled Substance</td>\n",
       "      <td>4200 Block Steubenville PKE Pittsburgh, PA 15205</td>\n",
       "      <td>Outside City</td>\n",
       "      <td>OSC</td>\n",
       "      <td>5599.0</td>\n",
       "      <td>NaN</td>\n",
       "      <td>NaN</td>\n",
       "      <td>-80.088018</td>\n",
       "      <td>40.440136</td>\n",
       "    </tr>\n",
       "    <tr>\n",
       "      <th>1974466</th>\n",
       "      <td>16144165</td>\n",
       "      <td>63.0</td>\n",
       "      <td>F</td>\n",
       "      <td>B</td>\n",
       "      <td>2016-08-03T16:45:00</td>\n",
       "      <td>900 Block Freeport RD Fox Chapel, PA 15238</td>\n",
       "      <td>3929 Retail Theft.</td>\n",
       "      <td>900 Block Freeport RD Fox Chapel, PA 15238</td>\n",
       "      <td>Westwood</td>\n",
       "      <td>5</td>\n",
       "      <td>2811.0</td>\n",
       "      <td>9.0</td>\n",
       "      <td>2.0</td>\n",
       "      <td>-79.891803</td>\n",
       "      <td>40.486625</td>\n",
       "    </tr>\n",
       "    <tr>\n",
       "      <th>1974550</th>\n",
       "      <td>16145257</td>\n",
       "      <td>25.0</td>\n",
       "      <td>F</td>\n",
       "      <td>W</td>\n",
       "      <td>2016-08-05T02:36:00</td>\n",
       "      <td>Foreland ST &amp; Cedar AV Pittsburgh, PA 15212</td>\n",
       "      <td>5503 Disorderly Conduct. / 5505 Public Drunken...</td>\n",
       "      <td>Foreland ST &amp; Cedar AV Pittsburgh, PA 15212</td>\n",
       "      <td>East Allegheny</td>\n",
       "      <td>1</td>\n",
       "      <td>2304.0</td>\n",
       "      <td>1.0</td>\n",
       "      <td>1.0</td>\n",
       "      <td>-80.001939</td>\n",
       "      <td>40.454080</td>\n",
       "    </tr>\n",
       "    <tr>\n",
       "      <th>1974596</th>\n",
       "      <td>16145962</td>\n",
       "      <td>25.0</td>\n",
       "      <td>M</td>\n",
       "      <td>B</td>\n",
       "      <td>2016-08-06T02:00:00</td>\n",
       "      <td>900 Block Woodlow ST Pittsburgh, PA 15205</td>\n",
       "      <td>2702 Aggravated Assault. / 2705 Recklessy Enda...</td>\n",
       "      <td>900 Block Woodlow ST Pittsburgh, PA 15205</td>\n",
       "      <td>Crafton Heights</td>\n",
       "      <td>5</td>\n",
       "      <td>2814.0</td>\n",
       "      <td>2.0</td>\n",
       "      <td>5.0</td>\n",
       "      <td>-80.052204</td>\n",
       "      <td>40.445900</td>\n",
       "    </tr>\n",
       "  </tbody>\n",
       "</table>\n",
       "</div>"
      ],
      "text/plain": [
       "              CCR   AGE GENDER RACE           ARRESTTIME  \\\n",
       "PK                                                         \n",
       "1975272  16158872  42.0      F    B  2016-08-24T12:20:00   \n",
       "1974456  16144120  31.0      M    W  2016-08-03T14:55:00   \n",
       "1974466  16144165  63.0      F    B  2016-08-03T16:45:00   \n",
       "1974550  16145257  25.0      F    W  2016-08-05T02:36:00   \n",
       "1974596  16145962  25.0      M    B  2016-08-06T02:00:00   \n",
       "\n",
       "                                           ARRESTLOCATION  \\\n",
       "PK                                                          \n",
       "1975272         4700 Block Centre AV Pittsburgh, PA 15213   \n",
       "1974456  4200 Block Steubenville PKE Pittsburgh, PA 15205   \n",
       "1974466        900 Block Freeport RD Fox Chapel, PA 15238   \n",
       "1974550       Foreland ST & Cedar AV Pittsburgh, PA 15212   \n",
       "1974596         900 Block Woodlow ST Pittsburgh, PA 15205   \n",
       "\n",
       "                                                  OFFENSES  \\\n",
       "PK                                                           \n",
       "1975272                                 3929 Retail Theft.   \n",
       "1974456       13(a)(16) Possession of Controlled Substance   \n",
       "1974466                                 3929 Retail Theft.   \n",
       "1974550  5503 Disorderly Conduct. / 5505 Public Drunken...   \n",
       "1974596  2702 Aggravated Assault. / 2705 Recklessy Enda...   \n",
       "\n",
       "                                         INCIDENTLOCATION  \\\n",
       "PK                                                          \n",
       "1975272         4700 Block Centre AV Pittsburgh, PA 15213   \n",
       "1974456  4200 Block Steubenville PKE Pittsburgh, PA 15205   \n",
       "1974466        900 Block Freeport RD Fox Chapel, PA 15238   \n",
       "1974550       Foreland ST & Cedar AV Pittsburgh, PA 15212   \n",
       "1974596         900 Block Woodlow ST Pittsburgh, PA 15205   \n",
       "\n",
       "        INCIDENTNEIGHBORHOOD INCIDENTZONE  INCIDENTTRACT  COUNCIL_DISTRICT  \\\n",
       "PK                                                                           \n",
       "1975272           Bloomfield            5          804.0               8.0   \n",
       "1974456         Outside City          OSC         5599.0               NaN   \n",
       "1974466             Westwood            5         2811.0               9.0   \n",
       "1974550       East Allegheny            1         2304.0               1.0   \n",
       "1974596      Crafton Heights            5         2814.0               2.0   \n",
       "\n",
       "         PUBLIC_WORKS_DIVISION          X          Y  \n",
       "PK                                                    \n",
       "1975272                    2.0 -79.949277  40.452551  \n",
       "1974456                    NaN -80.088018  40.440136  \n",
       "1974466                    2.0 -79.891803  40.486625  \n",
       "1974550                    1.0 -80.001939  40.454080  \n",
       "1974596                    5.0 -80.052204  40.445900  "
      ]
     },
     "execution_count": 4,
     "metadata": {},
     "output_type": "execute_result"
    }
   ],
   "source": [
    "crime = pd.read_csv(\"arrests.csv\",index_col=\"PK\")\n",
    "crime.head()"
   ]
  },
  {
   "cell_type": "markdown",
   "metadata": {},
   "source": [
    "The following code snippet creates the actual metric we used. By getting the value counts for unique entries into 'INCIDENTNEIGHBORHOOD', we get the number of arrests in each neighborhood. From there we can divide by the highest count to create a metric that is between 0 and 1. Since we want 1 to be the best score and 0 the worst, we just subtract the metric by 1 and invert the sign to get the final values."
   ]
  },
  {
   "cell_type": "code",
   "execution_count": 7,
   "metadata": {},
   "outputs": [
    {
     "data": {
      "text/plain": [
       "Central Business District   -0.000000\n",
       "South Side Flats             0.099864\n",
       "Carrick                      0.374035\n",
       "East Allegheny               0.419882\n",
       "Homewood South               0.467090\n",
       "                               ...   \n",
       "Ridgemont                    0.993191\n",
       "Mt. Oliver Boro              0.994553\n",
       "Troy Hill-Herrs Island       0.997276\n",
       "Mt. Oliver Neighborhood      0.999092\n",
       "South Side Fl                0.999546\n",
       "Name: INCIDENTNEIGHBORHOOD, Length: 99, dtype: float64"
      ]
     },
     "execution_count": 7,
     "metadata": {},
     "output_type": "execute_result"
    }
   ],
   "source": [
    "(crime['INCIDENTNEIGHBORHOOD'].value_counts()/2203-1)*(-1)"
   ]
  },
  {
   "cell_type": "code",
   "execution_count": 3,
   "metadata": {},
   "outputs": [
    {
     "data": {
      "text/plain": [
       "Central Business District    2203\n",
       "South Side Flats             1983\n",
       "Carrick                      1379\n",
       "East Allegheny               1278\n",
       "Homewood South               1174\n",
       "                             ... \n",
       "Ridgemont                      15\n",
       "Mt. Oliver Boro                12\n",
       "Troy Hill-Herrs Island          6\n",
       "Mt. Oliver Neighborhood         2\n",
       "South Side Fl                   1\n",
       "Name: INCIDENTNEIGHBORHOOD, Length: 99, dtype: int64"
      ]
     },
     "execution_count": 3,
     "metadata": {},
     "output_type": "execute_result"
    }
   ],
   "source": [
    "crime['INCIDENTNEIGHBORHOOD'].value_counts()"
   ]
  },
  {
   "cell_type": "code",
   "execution_count": 4,
   "metadata": {},
   "outputs": [],
   "source": [
    "crime_metric = (crime['INCIDENTNEIGHBORHOOD'].value_counts()/2203-1)*(-1)\n",
    "# how to actually create metric"
   ]
  },
  {
   "cell_type": "code",
   "execution_count": 15,
   "metadata": {},
   "outputs": [
    {
     "name": "stdout",
     "output_type": "stream",
     "text": [
      "0.3740354062641852\n"
     ]
    }
   ],
   "source": [
    "print(crime_metric['Carrick'])\n",
    "# how to access metric for neighborhoods"
   ]
  },
  {
   "cell_type": "code",
   "execution_count": 14,
   "metadata": {},
   "outputs": [
    {
     "data": {
      "text/plain": [
       "<matplotlib.axes._subplots.AxesSubplot at 0x7ff2b0aafe48>"
      ]
     },
     "execution_count": 14,
     "metadata": {},
     "output_type": "execute_result"
    },
    {
     "data": {
      "image/png": "[encoded data removed]",
      "text/plain": [
       "<Figure size 432x288 with 1 Axes>"
      ]
     },
     "metadata": {
      "needs_background": "light"
     },
     "output_type": "display_data"
    }
   ],
   "source": [
    "crime['INCIDENTNEIGHBORHOOD'].value_counts().head(20).plot(kind=\"bar\")\n",
    "# most dangerous neighborhoods (by number of arrests)"
   ]
  },
  {
   "cell_type": "code",
   "execution_count": 13,
   "metadata": {},
   "outputs": [
    {
     "data": {
      "text/plain": [
       "<matplotlib.axes._subplots.AxesSubplot at 0x7ff2b0b1ada0>"
      ]
     },
     "execution_count": 13,
     "metadata": {},
     "output_type": "execute_result"
    },
    {
     "data": {
      "image/png": "[encoded data removed]",
      "text/plain": [
       "<Figure size 432x288 with 1 Axes>"
      ]
     },
     "metadata": {
      "needs_background": "light"
     },
     "output_type": "display_data"
    }
   ],
   "source": [
    "crime['INCIDENTNEIGHBORHOOD'].value_counts().tail(20).plot(kind=\"bar\")\n",
    "# safest neighborhoods (by number of arrests)"
   ]
  },
  {
   "cell_type": "code",
   "execution_count": null,
   "metadata": {},
   "outputs": [],
   "source": []
  }
 ],
 "metadata": {
  "kernelspec": {
   "display_name": "Python 3",
   "language": "python",
   "name": "python3"
  },
  "language_info": {
   "codemirror_mode": {
    "name": "ipython",
    "version": 3
   },
   "file_extension": ".py",
   "mimetype": "text/x-python",
   "name": "python",
   "nbconvert_exporter": "python",
   "pygments_lexer": "ipython3",
   "version": "3.6.7"
  }
 },
 "nbformat": 4,
 "nbformat_minor": 4
}
